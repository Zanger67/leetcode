{
 "cells": [
  {
   "cell_type": "code",
   "execution_count": 56,
   "metadata": {},
   "outputs": [],
   "source": [
    "import pandas as kungfupanda\n",
    "from os import listdir\n",
    "from os.path import isfile, join\n",
    "import os\n",
    "import re"
   ]
  },
  {
   "cell_type": "code",
   "execution_count": 57,
   "metadata": {},
   "outputs": [
    {
     "name": "stdout",
     "output_type": "stream",
     "text": [
      "['e1.java', 'e1068.sql', 'e118.py', 'e1184.py', 'e14.java', 'e175.sql', 'e181.sql', 'e182.sql', 'e183.sql', 'e197.sql', 'e20.java', 'e21.java', 'e2248.py', 'e2395.py', 'e26.java', 'e2678.java', 'e28.py', 'e2886.py', 'e2894.py', 'e292.py', 'e3074.py', 'e345.py', 'e414 - sorting.py', 'e414.py', 'e577.sql', 'e584.sql', 'e586.sql', 'e595.sql', 'e596.sql', 'e607.sql', 'e619.sql', 'e70 - bottomup.py', 'e70 - topdown.py', 'e9.java', 'm1218.py', 'm1404.py', 'm1442.py', 'm166.py', 'm176.sql', 'm177.sql', 'm1885.py', 'm2.java', 'm2433.py', 'm251.py', 'm260.py', 'm2679.java', 'm3.java', 'm611.py', 'm651.py', 'm7.py']\n",
      "Total of 50 files found.\n"
     ]
    }
   ],
   "source": [
    "leetcodePath = 'my-submissions/'\n",
    "leetcodeFiles = [x for x in listdir(leetcodePath)]\n",
    "\n",
    "print(leetcodeFiles)\n",
    "print(f'Total of {len(leetcodeFiles)} files found.')\n"
   ]
  },
  {
   "cell_type": "code",
   "execution_count": 58,
   "metadata": {},
   "outputs": [],
   "source": [
    "leetcodeFiles.sort()"
   ]
  },
  {
   "cell_type": "code",
   "execution_count": 59,
   "metadata": {},
   "outputs": [],
   "source": [
    "# def addCase(df: kungfupanda.DataFrame,\n",
    "def addCase(level: str, \n",
    "            number: int, \n",
    "            title: str, \n",
    "            language: str,\n",
    "            path: str) :\n",
    "    # template = {'Level': level, 'Number': number, 'Title': title, 'Python': '', 'Java': '', 'MySQL': '', 'Other': ''}\n",
    "    # template[language] = path\n",
    "\n",
    "    # Level, Number, Title, Python, Java, MySQL, Other\n",
    "    output = [level, number, title, '', '', '', '']\n",
    "    match language.lower() :\n",
    "        case 'python' | 'py':\n",
    "            output[3] = path\n",
    "        case 'java':\n",
    "            output[4] = path\n",
    "        case 'mysql' | 'sql' :\n",
    "            output[5] = path\n",
    "        case _:\n",
    "            output[6] = path\n",
    "\n",
    "    # return df\n",
    "    return output"
   ]
  },
  {
   "cell_type": "code",
   "execution_count": 60,
   "metadata": {},
   "outputs": [
    {
     "name": "stdout",
     "output_type": "stream",
     "text": [
      "[['Easy', 1, '', '', 'my-submissions/e1.java', '', ''], ['Easy', 1068, '', '', '', 'my-submissions/e1068.sql', ''], ['Easy', 118, '', 'my-submissions/e118.py', '', '', ''], ['Easy', 1184, '', 'my-submissions/e1184.py', '', '', ''], ['Easy', 14, '', '', 'my-submissions/e14.java', '', ''], ['Easy', 175, '', '', '', 'my-submissions/e175.sql', ''], ['Easy', 181, '', '', '', 'my-submissions/e181.sql', ''], ['Easy', 182, '', '', '', 'my-submissions/e182.sql', ''], ['Easy', 183, '', '', '', 'my-submissions/e183.sql', ''], ['Easy', 197, '', '', '', 'my-submissions/e197.sql', ''], ['Easy', 20, '', '', 'my-submissions/e20.java', '', ''], ['Easy', 21, '', '', 'my-submissions/e21.java', '', ''], ['Easy', 2248, '', 'my-submissions/e2248.py', '', '', ''], ['Easy', 2395, '', 'my-submissions/e2395.py', '', '', ''], ['Easy', 26, '', '', 'my-submissions/e26.java', '', ''], ['Easy', 2678, '', '', 'my-submissions/e2678.java', '', ''], ['Easy', 28, '', 'my-submissions/e28.py', '', '', ''], ['Easy', 2886, '', 'my-submissions/e2886.py', '', '', ''], ['Easy', 2894, '', 'my-submissions/e2894.py', '', '', ''], ['Easy', 292, '', 'my-submissions/e292.py', '', '', ''], ['Easy', 3074, '', 'my-submissions/e3074.py', '', '', ''], ['Easy', 345, '', 'my-submissions/e345.py', '', '', ''], ['Easy', 414, '', 'my-submissions/e414 - sorting.py', '', '', ''], ['Easy', 414, '', 'my-submissions/e414.py', '', '', ''], ['Easy', 577, '', '', '', 'my-submissions/e577.sql', ''], ['Easy', 584, '', '', '', 'my-submissions/e584.sql', ''], ['Easy', 586, '', '', '', 'my-submissions/e586.sql', ''], ['Easy', 595, '', '', '', 'my-submissions/e595.sql', ''], ['Easy', 596, '', '', '', 'my-submissions/e596.sql', ''], ['Easy', 607, '', '', '', 'my-submissions/e607.sql', ''], ['Easy', 619, '', '', '', 'my-submissions/e619.sql', ''], ['Easy', 70, '', 'my-submissions/e70 - bottomup.py', '', '', ''], ['Easy', 70, '', 'my-submissions/e70 - topdown.py', '', '', ''], ['Easy', 9, '', '', 'my-submissions/e9.java', '', '']]\n",
      "[['Medium', 1218, '', 'my-submissions/m1218.py', '', '', ''], ['Medium', 1404, '', 'my-submissions/m1404.py', '', '', ''], ['Medium', 1442, '', 'my-submissions/m1442.py', '', '', ''], ['Medium', 166, '', 'my-submissions/m166.py', '', '', ''], ['Medium', 176, '', '', '', 'my-submissions/m176.sql', ''], ['Medium', 177, '', '', '', 'my-submissions/m177.sql', ''], ['Medium', 1885, '', 'my-submissions/m1885.py', '', '', ''], ['Medium', 2, '', '', 'my-submissions/m2.java', '', ''], ['Medium', 2433, '', 'my-submissions/m2433.py', '', '', ''], ['Medium', 251, '', 'my-submissions/m251.py', '', '', ''], ['Medium', 260, '', 'my-submissions/m260.py', '', '', ''], ['Medium', 2679, '', '', 'my-submissions/m2679.java', '', ''], ['Medium', 3, '', '', 'my-submissions/m3.java', '', ''], ['Medium', 611, '', 'my-submissions/m611.py', '', '', ''], ['Medium', 651, '', 'my-submissions/m651.py', '', '', ''], ['Medium', 7, '', 'my-submissions/m7.py', '', '', '']]\n",
      "[]\n"
     ]
    }
   ],
   "source": [
    "easyQuestions = [] \n",
    "mediumQuestions = []\n",
    "hardQuestions = []\n",
    "\n",
    "for i in leetcodeFiles :\n",
    "    level = i[0].lower()\n",
    "    number = int(re.sub(\"[^0-9]\", \"\", i))\n",
    "    title = ''\n",
    "    language = i[i.find('.') + 1:]\n",
    "    path = join(leetcodePath, i)\n",
    "\n",
    "    # print(level, number, title, language, path)\n",
    "\n",
    "    # match level :\n",
    "    #     case 'e' :\n",
    "    #         dfEasy = addCase(dfEasy, 'Easy', number, title, language, path)\n",
    "    #     case 'm' :\n",
    "    #         dfMedium = addCase(dfMedium, 'Medium', number, title, language, path)\n",
    "    #     case 'h' :\n",
    "    #         dfHard = addCase(dfHard, 'Hard', number, title, language, path)\n",
    "\n",
    "    match level :\n",
    "        case 'e' :\n",
    "            easyQuestions.append(addCase('Easy', number, title, language, path))\n",
    "        case 'm' :\n",
    "            mediumQuestions.append(addCase('Medium', number, title, language, path))\n",
    "        case 'h' :\n",
    "            hardQuestions.append(addCase('Hard', number, title, language, path))\n",
    "\n",
    "print(easyQuestions)\n",
    "print(mediumQuestions)\n",
    "print(hardQuestions)\n"
   ]
  },
  {
   "cell_type": "code",
   "execution_count": 61,
   "metadata": {},
   "outputs": [],
   "source": [
    "easyQuestions = sorted(easyQuestions, key=lambda x: x[1])\n",
    "mediumQuestions = sorted(mediumQuestions, key=lambda x: x[1])\n",
    "hardQuestions = sorted(hardQuestions, key=lambda x: x[1])"
   ]
  },
  {
   "cell_type": "code",
   "execution_count": 62,
   "metadata": {},
   "outputs": [],
   "source": [
    "columns = ['Level', \n",
    "           'Number', \n",
    "           'Title', \n",
    "           'Python', \n",
    "           'Java', \n",
    "           'MySQL', \n",
    "           'Other'\n",
    "           ]\n",
    "typeClarification = {'Level': 'str', \n",
    "                     'Number': 'int', \n",
    "                     'Title': 'str', \n",
    "                     'Python': 'str', \n",
    "                     'Java': 'str', \n",
    "                     'MySQL': 'str', \n",
    "                     'Other': 'str'\n",
    "                     }\n",
    "\n",
    "dfEasy = kungfupanda.DataFrame(data=easyQuestions, columns=columns)\n",
    "dfMedium = kungfupanda.DataFrame(data=mediumQuestions, columns=columns)\n",
    "dfHard = kungfupanda.DataFrame(data=hardQuestions, columns=columns)\n",
    "\n",
    "dfEasy = dfEasy.astype(typeClarification)\n",
    "dfMedium = dfMedium.astype(typeClarification)\n",
    "dfHard = dfHard.astype(typeClarification)\n",
    "\n",
    "# print(dfEasy)\n",
    "# print(dfMedium)\n",
    "# print(dfHard)\n",
    "\n",
    "# print(dfEasy.to_markdown(index=False))"
   ]
  },
  {
   "cell_type": "code",
   "execution_count": 64,
   "metadata": {},
   "outputs": [],
   "source": [
    "readmePath = 'README_test.md'\n",
    "\n",
    "readme = os.open(readmePath, os.O_RDWR|os.O_CREAT)\n",
    "\n",
    "os.write(readme, b'# LeetCode\\n\\n')\n",
    "\n",
    "os.write(readme, b'## Easy\\n')\n",
    "os.write(readme, dfEasy.to_markdown(index=False).encode())\n",
    "\n",
    "os.write(readme, b'\\n\\n## Medium\\n')\n",
    "os.write(readme, dfMedium.to_markdown(index=False).encode())\n",
    "\n",
    "os.write(readme, b'\\n\\n## Hard\\n')\n",
    "os.write(readme, dfHard.to_markdown(index=False).encode())\n",
    "\n",
    "os.close(readme)"
   ]
  },
  {
   "cell_type": "code",
   "execution_count": null,
   "metadata": {},
   "outputs": [],
   "source": []
  }
 ],
 "metadata": {
  "kernelspec": {
   "display_name": "Python 3",
   "language": "python",
   "name": "python3"
  },
  "language_info": {
   "codemirror_mode": {
    "name": "ipython",
    "version": 3
   },
   "file_extension": ".py",
   "mimetype": "text/x-python",
   "name": "python",
   "nbconvert_exporter": "python",
   "pygments_lexer": "ipython3",
   "version": "3.10.2"
  }
 },
 "nbformat": 4,
 "nbformat_minor": 2
}
