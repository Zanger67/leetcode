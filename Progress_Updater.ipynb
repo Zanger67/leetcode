{
 "cells": [
  {
   "cell_type": "code",
   "execution_count": 199,
   "metadata": {},
   "outputs": [],
   "source": [
    "import pandas as kungfupanda\n",
    "from os import listdir\n",
    "from os.path import isfile, join\n",
    "import os\n",
    "import re"
   ]
  },
  {
   "cell_type": "code",
   "execution_count": 200,
   "metadata": {},
   "outputs": [
    {
     "name": "stdout",
     "output_type": "stream",
     "text": [
      "['e1.java', 'e1068.sql', 'e118.py', 'e1184.py', 'e14.java', 'e175.sql', 'e181.sql', 'e182.sql', 'e183.sql', 'e197.sql', 'e20.java', 'e21.java', 'e2248.py', 'e2395.py', 'e26.java', 'e2678.java', 'e28.py', 'e2886.py', 'e2894.py', 'e292.py', 'e3074.py', 'e345.py', 'e414 - sorting.py', 'e414.py', 'e577.sql', 'e584.sql', 'e586.sql', 'e595.sql', 'e596.sql', 'e607.sql', 'e619.sql', 'e70 - bottomup.py', 'e70 - topdown.py', 'e9.java', 'm1218.py', 'm1404.py', 'm1442.py', 'm166.py', 'm176.sql', 'm177.sql', 'm1885.py', 'm2.java', 'm2433.py', 'm251.py', 'm260.py', 'm2679.java', 'm3.java', 'm611.py', 'm651.py', 'm7.py']\n",
      "Total of 50 files found.\n"
     ]
    }
   ],
   "source": [
    "leetcodePath = 'my-submissions/'\n",
    "leetcodeFiles = [x for x in listdir(leetcodePath)]\n",
    "\n",
    "print(leetcodeFiles)\n",
    "print(f'Total of {len(leetcodeFiles)} files found.')\n"
   ]
  },
  {
   "cell_type": "code",
   "execution_count": 201,
   "metadata": {},
   "outputs": [],
   "source": [
    "leetcodeFiles.sort()"
   ]
  },
  {
   "cell_type": "code",
   "execution_count": 202,
   "metadata": {},
   "outputs": [],
   "source": [
    "# def addCase(df: kungfupanda.DataFrame,\n",
    "def addCase(level: str, \n",
    "            number: int, \n",
    "            title: str, \n",
    "            language: str,\n",
    "            path: str) :\n",
    "    # template = {'Level': level, 'Number': number, 'Title': title, 'Python': '', 'Java': '', 'MySQL': '', 'Other': ''}\n",
    "    # template[language] = path\n",
    "\n",
    "    # Level, Number, Title, Python, Java, MySQL, Other\n",
    "    output = [level, number, title, '', '', '', '']\n",
    "    path = f'[{language}](<{path}>)'\n",
    "    \n",
    "    match language.lower() :\n",
    "        case 'python' | 'py':\n",
    "            output[3] = path\n",
    "        case 'java':\n",
    "            output[4] = path\n",
    "        case 'mysql' | 'sql' :\n",
    "            output[5] = path\n",
    "        case _:\n",
    "            output[6] = path\n",
    "\n",
    "    # return df\n",
    "    return output"
   ]
  },
  {
   "cell_type": "code",
   "execution_count": 203,
   "metadata": {},
   "outputs": [],
   "source": [
    "def updateLanguage(orig, language, path) :    \n",
    "    match language.lower() :\n",
    "        case 'python' | 'py':\n",
    "            if not orig[3] == '' :\n",
    "                print(f'Warning: Python solution already exists for {orig[2]}.')\n",
    "                return updateLanguage(orig, 'other', path)\n",
    "            \n",
    "            path = f'[{language}](<{path}>)'\n",
    "            orig[3] = path\n",
    "        case 'java':\n",
    "            if not orig[4] == '' :\n",
    "                print(f'Warning: Java solution already exists for {orig[2]}.')\n",
    "                return updateLanguage(orig, 'other', path)\n",
    "            \n",
    "            path = f'[{language}](<{path}>)'\n",
    "            orig[4] = path\n",
    "        case 'mysql' | 'sql' :\n",
    "            if not orig[5] == '' :\n",
    "                print(f'Warning: MySQL solution already exists for {orig[2]}.')\n",
    "                return updateLanguage(orig, 'other', path)\n",
    "            \n",
    "            path = f'[{language}](<{path}>)'\n",
    "            orig[5] = path\n",
    "        case _:\n",
    "            if not orig[6] == '' :\n",
    "                print(f'Warning: Other solution already exists for {orig[2]} and is being overwritten.')\n",
    "            \n",
    "            path = f'[{language}](<{path}>)'\n",
    "            orig[6] = path\n",
    "\n",
    "    return orig"
   ]
  },
  {
   "cell_type": "code",
   "execution_count": 204,
   "metadata": {},
   "outputs": [
    {
     "name": "stdout",
     "output_type": "stream",
     "text": [
      "Warning: Python solution already exists for .\n",
      "Warning: Python solution already exists for .\n",
      "[['Easy', 1, '', '', '[java](<my-submissions/e1.java>)', '', ''], ['Easy', 1068, '', '', '', '[sql](<my-submissions/e1068.sql>)', ''], ['Easy', 118, '', '[py](<my-submissions/e118.py>)', '', '', ''], ['Easy', 1184, '', '[py](<my-submissions/e1184.py>)', '', '', ''], ['Easy', 14, '', '', '[java](<my-submissions/e14.java>)', '', ''], ['Easy', 175, '', '', '', '[sql](<my-submissions/e175.sql>)', ''], ['Easy', 181, '', '', '', '[sql](<my-submissions/e181.sql>)', ''], ['Easy', 182, '', '', '', '[sql](<my-submissions/e182.sql>)', ''], ['Easy', 183, '', '', '', '[sql](<my-submissions/e183.sql>)', ''], ['Easy', 197, '', '', '', '[sql](<my-submissions/e197.sql>)', ''], ['Easy', 20, '', '', '[java](<my-submissions/e20.java>)', '', ''], ['Easy', 21, '', '', '[java](<my-submissions/e21.java>)', '', ''], ['Easy', 2248, '', '[py](<my-submissions/e2248.py>)', '', '', ''], ['Easy', 2395, '', '[py](<my-submissions/e2395.py>)', '', '', ''], ['Easy', 26, '', '', '[java](<my-submissions/e26.java>)', '', ''], ['Easy', 2678, '', '', '[java](<my-submissions/e2678.java>)', '', ''], ['Easy', 28, '', '[py](<my-submissions/e28.py>)', '', '', ''], ['Easy', 2886, '', '[py](<my-submissions/e2886.py>)', '', '', ''], ['Easy', 2894, '', '[py](<my-submissions/e2894.py>)', '', '', ''], ['Easy', 292, '', '[py](<my-submissions/e292.py>)', '', '', ''], ['Easy', 3074, '', '[py](<my-submissions/e3074.py>)', '', '', ''], ['Easy', 345, '', '[py](<my-submissions/e345.py>)', '', '', ''], ['Easy', 414, '', '[py](<my-submissions/e414 - sorting.py>)', '', '', '[other](<my-submissions/e414.py>)'], ['Easy', 577, '', '', '', '[sql](<my-submissions/e577.sql>)', ''], ['Easy', 584, '', '', '', '[sql](<my-submissions/e584.sql>)', ''], ['Easy', 586, '', '', '', '[sql](<my-submissions/e586.sql>)', ''], ['Easy', 595, '', '', '', '[sql](<my-submissions/e595.sql>)', ''], ['Easy', 596, '', '', '', '[sql](<my-submissions/e596.sql>)', ''], ['Easy', 607, '', '', '', '[sql](<my-submissions/e607.sql>)', ''], ['Easy', 619, '', '', '', '[sql](<my-submissions/e619.sql>)', ''], ['Easy', 70, '', '[py](<my-submissions/e70 - bottomup.py>)', '', '', '[other](<my-submissions/e70 - topdown.py>)'], ['Easy', 9, '', '', '[java](<my-submissions/e9.java>)', '', '']]\n",
      "[['Medium', 1218, '', '[py](<my-submissions/m1218.py>)', '', '', ''], ['Medium', 1404, '', '[py](<my-submissions/m1404.py>)', '', '', ''], ['Medium', 1442, '', '[py](<my-submissions/m1442.py>)', '', '', ''], ['Medium', 166, '', '[py](<my-submissions/m166.py>)', '', '', ''], ['Medium', 176, '', '', '', '[sql](<my-submissions/m176.sql>)', ''], ['Medium', 177, '', '', '', '[sql](<my-submissions/m177.sql>)', ''], ['Medium', 1885, '', '[py](<my-submissions/m1885.py>)', '', '', ''], ['Medium', 2, '', '', '[java](<my-submissions/m2.java>)', '', ''], ['Medium', 2433, '', '[py](<my-submissions/m2433.py>)', '', '', ''], ['Medium', 251, '', '[py](<my-submissions/m251.py>)', '', '', ''], ['Medium', 260, '', '[py](<my-submissions/m260.py>)', '', '', ''], ['Medium', 2679, '', '', '[java](<my-submissions/m2679.java>)', '', ''], ['Medium', 3, '', '', '[java](<my-submissions/m3.java>)', '', ''], ['Medium', 611, '', '[py](<my-submissions/m611.py>)', '', '', ''], ['Medium', 651, '', '[py](<my-submissions/m651.py>)', '', '', ''], ['Medium', 7, '', '[py](<my-submissions/m7.py>)', '', '', '']]\n",
      "[]\n"
     ]
    }
   ],
   "source": [
    "easyQuestions = [] \n",
    "mediumQuestions = []\n",
    "hardQuestions = []\n",
    "\n",
    "questionsVisited = set()\n",
    "\n",
    "for i in leetcodeFiles :\n",
    "    level = i[0].lower()\n",
    "    number = int(re.sub(\"[^0-9]\", \"\", i))\n",
    "    title = ''\n",
    "    language = i[i.find('.') + 1:]\n",
    "    path = join(leetcodePath, i)\n",
    "\n",
    "    # print(level, number, title, language, path)\n",
    "\n",
    "    # match level :\n",
    "    #     case 'e' :\n",
    "    #         dfEasy = addCase(dfEasy, 'Easy', number, title, language, path)\n",
    "    #     case 'm' :\n",
    "    #         dfMedium = addCase(dfMedium, 'Medium', number, title, language, path)\n",
    "    #     case 'h' :\n",
    "    #         dfHard = addCase(dfHard, 'Hard', number, title, language, path)\n",
    "\n",
    "    if number in questionsVisited :\n",
    "        match level :\n",
    "            case 'e' :\n",
    "                for i in range(len(easyQuestions)) :\n",
    "                    if easyQuestions[i][1] == number :\n",
    "                        easyQuestions[i] = updateLanguage(easyQuestions[i], language, path)\n",
    "                        break\n",
    "            case 'm' :\n",
    "                for i in range(len(mediumQuestions)) :\n",
    "                    if mediumQuestions[i][1] == number :\n",
    "                        mediumQuestions[i] = updateLanguage(mediumQuestions[i], language, path)\n",
    "                        break\n",
    "            case 'h' :\n",
    "                for i in range(len(hardQuestions)) :\n",
    "                    if hardQuestions[i][1] == number :\n",
    "                        hardQuestions[i] = updateLanguage(hardQuestions[i], language, path)\n",
    "                        break\n",
    "        continue\n",
    "\n",
    "    questionsVisited.add(number)\n",
    "\n",
    "    match level :\n",
    "        case 'e' :\n",
    "            easyQuestions.append(addCase('Easy', number, title, language, path))\n",
    "        case 'm' :\n",
    "            mediumQuestions.append(addCase('Medium', number, title, language, path))\n",
    "        case 'h' :\n",
    "            hardQuestions.append(addCase('Hard', number, title, language, path))\n",
    "\n",
    "print(easyQuestions)\n",
    "print(mediumQuestions)\n",
    "print(hardQuestions)\n"
   ]
  },
  {
   "cell_type": "code",
   "execution_count": 205,
   "metadata": {},
   "outputs": [],
   "source": [
    "# Sorting by question number\n",
    "easyQuestions = sorted(easyQuestions, key=lambda x: x[1])\n",
    "mediumQuestions = sorted(mediumQuestions, key=lambda x: x[1])\n",
    "hardQuestions = sorted(hardQuestions, key=lambda x: x[1])"
   ]
  },
  {
   "cell_type": "code",
   "execution_count": 206,
   "metadata": {},
   "outputs": [],
   "source": [
    "columns = ['Level', \n",
    "           'Number', \n",
    "           'Title', \n",
    "           'Python', \n",
    "           'Java', \n",
    "           'MySQL', \n",
    "           'Other'\n",
    "           ]\n",
    "typeClarification = {'Level': 'str', \n",
    "                     'Number': 'int', \n",
    "                     'Title': 'str', \n",
    "                     'Python': 'str', \n",
    "                     'Java': 'str', \n",
    "                     'MySQL': 'str', \n",
    "                     'Other': 'str'\n",
    "                     }\n",
    "\n",
    "dfEasy = kungfupanda.DataFrame(data=easyQuestions, columns=columns)\n",
    "dfMedium = kungfupanda.DataFrame(data=mediumQuestions, columns=columns)\n",
    "dfHard = kungfupanda.DataFrame(data=hardQuestions, columns=columns)\n",
    "\n",
    "dfEasy = dfEasy.astype(typeClarification)\n",
    "dfMedium = dfMedium.astype(typeClarification)\n",
    "dfHard = dfHard.astype(typeClarification)\n",
    "\n",
    "# print(dfEasy)\n",
    "# print(dfMedium)\n",
    "# print(dfHard)\n",
    "\n",
    "# print(dfEasy.to_markdown(index=False))"
   ]
  },
  {
   "cell_type": "code",
   "execution_count": null,
   "metadata": {},
   "outputs": [],
   "source": []
  },
  {
   "cell_type": "code",
   "execution_count": 207,
   "metadata": {},
   "outputs": [],
   "source": [
    "readmePath = 'README_test.md'\n",
    "\n",
    "with open(readmePath, 'w') as file :\n",
    "    file.write('# LeetCode\\n\\n')\n",
    "\n",
    "    file.write(f'Easy completed:\\t{len(easyQuestions)}\\n')\n",
    "    file.write(f'Medium completed:\\t{len(mediumQuestions)}\\n')\n",
    "    file.write(f'Hard completed:\\t{len(hardQuestions)}\\n\\n')\n",
    "    \n",
    "    file.write('## Easy\\n')\n",
    "    file.write(dfEasy.to_markdown(index=False))\n",
    "\n",
    "    file.write('\\n\\n## Medium\\n')\n",
    "    file.write(dfMedium.to_markdown(index=False))\n",
    "\n",
    "    file.write('\\n\\n## Hard\\n')\n",
    "    file.write(dfHard.to_markdown(index=False))\n",
    "\n",
    "# readme = os.open(readmePath, os.O_WRONLY|os.O_CREAT)\n",
    "\n",
    "# os.write(readme, b'# LeetCode\\n\\n')\n",
    "\n",
    "# os.write(readme, b'## Easy\\n')\n",
    "# os.write(readme, dfEasy.to_markdown(index=False).encode())\n",
    "\n",
    "# os.write(readme, b'\\n\\n## Medium\\n')\n",
    "# os.write(readme, dfMedium.to_markdown(index=False).encode())\n",
    "\n",
    "# os.write(readme, b'\\n\\n## Hard\\n')\n",
    "# os.write(readme, dfHard.to_markdown(index=False).encode())\n",
    "\n",
    "# os.close(readme)"
   ]
  },
  {
   "cell_type": "code",
   "execution_count": null,
   "metadata": {},
   "outputs": [],
   "source": []
  }
 ],
 "metadata": {
  "kernelspec": {
   "display_name": "Python 3",
   "language": "python",
   "name": "python3"
  },
  "language_info": {
   "codemirror_mode": {
    "name": "ipython",
    "version": 3
   },
   "file_extension": ".py",
   "mimetype": "text/x-python",
   "name": "python",
   "nbconvert_exporter": "python",
   "pygments_lexer": "ipython3",
   "version": "3.10.2"
  }
 },
 "nbformat": 4,
 "nbformat_minor": 2
}
