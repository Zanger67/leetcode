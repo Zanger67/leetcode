{
 "cells": [
  {
   "cell_type": "code",
   "execution_count": 1,
   "metadata": {},
   "outputs": [],
   "source": [
    "import pandas as kungfupanda\n",
    "from os import listdir\n",
    "from os.path import isfile, join\n",
    "import os\n",
    "import re"
   ]
  },
  {
   "cell_type": "markdown",
   "metadata": {},
   "source": [
    "# Notebook for Updating Stats and Links on README\n",
    "This is just a helper file I use to automatically link my solution files to the [README.md](README.md) page, formatting the links and details into markdown tables and calculating \"solved\" stats in the process. Just makes my life easier and I find it satisfying seeing the links lol. \n",
    "\n",
    "Just something I whipped up for fun. :)"
   ]
  },
  {
   "cell_type": "code",
   "execution_count": 2,
   "metadata": {},
   "outputs": [
    {
     "name": "stdout",
     "output_type": "stream",
     "text": [
      "['e1 - brute force.java', 'e1.java', 'e1.py', 'e1002 Daily.py', 'e1030.py', 'e1046.py', 'e1051.c', 'e1051.py', 'e1068.sql', 'e111.c', 'e118.py', 'e1184.py', 'e125.c', 'e125.py', 'e1252 v2 bools.c', 'e1252.c', 'e1317.c', 'e1351 v1 inefficient.java', 'e1351 v2 optimized.java', 'e1351.py', 'e14.java', 'e141 sets.py', 'e141 two pointer race.c', 'e1426.c', 'e1436.java', 'e1455 v2 less efficient.py', 'e1455.py', 'e1460.c', 'e1470 v2.c', 'e1470.c', 'e1474.c', 'e1474.java', 'e1502.c', 'e1502.py', 'e1684.c', 'e1684.py', 'e1700 v1.py', 'e1700 v2.py', 'e1736.c', 'e1748.c', 'e175.py', 'e175.sql', 'e181.sql', 'e182.sql', 'e1822.c', 'e183.sql', 'e1929.c', 'e1929.java', 'e1929.py', 'e196.py', 'e196.sql', 'e197.sql', 'e20.java', 'e2011.c', 'e2037 v1 preserving data.c', 'e2037 v2 nonpreserving.c', 'e21.java', 'e2206 v2 without double mallocing.c', 'e2206.c', 'e2206.py', 'e2248.py', 'e2389.py', 'e2395.py', 'e2570 v1.c', 'e2570 v2 less mallocing.c', 'e26.java', 'e2678.java', 'e27.java', 'e27.py', 'e28.py', 'e2886.py', 'e2894.py', 'e292.py', 'e2942.c', 'e3074.py', 'e3110 Daily.java', 'e3110.py', 'e344 Daily.java', 'e344.py', 'e345.py', 'e374.java', 'e374.py', 'e408.py', 'e409 Daily.c', 'e409 alt a bit slower.py', 'e409.py', 'e412 hashmaps.java', 'e412 oneliner.py', 'e412.java', 'e412.py', 'e414 - sorting.py', 'e414.py', 'e543 v2.java', 'e543.c', 'e543.java', 'e543.py', 'e572 v2 ideal.py', 'e572.py', 'e577.sql', 'e584.sql', 'e586.sql', 'e595.sql', 'e596.sql', 'e607.sql', 'e619.sql', 'e645 v1 moderate runtime.java', 'e645 v2 even slower.java', 'e645.py', 'e66 v2.c', 'e66.c', 'e69.py', 'e70 - bottomup.py', 'e70 - topdown.py', 'e744.java', 'e744.py', 'e771 v1.java', 'e771 v2 HashMap.java', 'e771 v3 brute force.java', 'e771.py', 'e9.java', 'h1284 converted for booleans.py', 'h1284.py', 'h224.py', 'h239 v1.py', 'h239 v2.py', 'h25.c', 'm1218.py', 'm1249.py', 'm1265 v1 recursive stack.py', 'm1265 v1.c', 'm129.py', 'm1302 v2 2 pass traversal much faster.c', 'm1302.c', 'm1302.py', 'm1404 Daily.py', 'm1442 Daily.py', 'm1490.java', 'm1490.py', 'm1525 v1.py', 'm1525 v2.py', 'm1535.py', 'm1570 v2 efficient storing.py', 'm1570 v2-2 improved further and simplified.py', 'm1570 v2-2.java', 'm1570 v2.c', 'm1570.py', 'm1650 v2.py', 'm1650 v3 O(1) Space.py', 'm1650.py', 'm166.py', 'm1698 v1.java', 'm1698 v1.py', 'm1721.c', 'm1759.c', 'm1759.java', 'm176.sql', 'm1762.py', 'm177.sql', 'm1783.sql', 'm184.sql', 'm1885 Weekly Premium.py', 'm189.py', 'm19 v2 two-pointer.py', 'm19 v2.c', 'm19 v2.java', 'm19.py', 'm1940 Iterative Removed TryExcept.py', 'm1940 Iterative TryExcept.py', 'm1940 Iterative.java', 'm1940 Weekly Premium subset method.py', 'm1940 counter.java', 'm1940 counter.py', 'm2.java', 'm2083 Weekly Premium.py', 'm2083.c', 'm2095.c', 'm2095.java', 'm2149.c', 'm2149.py', 'm2265 v2 better runtime via static variable.py', 'm2265.py', 'm227 cleaned.py', 'm227.py', 'm2390 v1 Stack.java', 'm2390 v1.py', 'm2390 v2 Deque.java', 'm2390 v2.py', 'm2390 v3 just StringBuilder.java', 'm2396 v1.py', 'm2396 v2.c', 'm2396 v2.py', 'm2396.c', 'm2396.cpp', 'm2396.java', 'm2396.js', 'm2396.kt', 'm2396.rb', 'm2396.rs', 'm24 v2 recursion.c', 'm24.c', 'm2433.py', 'm2482.py', 'm2486 Daily v1.py', 'm2486 Daily v2 two pointer.py', 'm2486 v2.c', 'm2486 v2.java', 'm251.py', 'm260 Daily.py', 'm2610 v2 funny less efficient two-liner.py', 'm2610.py', 'm2679.java', 'm3.java', 'm3064 v1.c', 'm3064 v1.py', 'm3064 v2 alt.py', 'm3064 v2.py', 'm46 v1 itertools.py', 'm46 v2 recursive.py', 'm475.py', 'm523 v1 Daily 2024-06-08.py', 'm523 v2 cleaned partially and adjusted to save memory.py', 'm535 v2.py', 'm535.py', 'm611.py', 'm648  Daily.py', 'm648 v2 TRIE.java', 'm648 v2 TRIE.py', 'm651.py', 'm692.py', 'm7.py', 'm77 v1 itertools.py', 'm77.py', 'm78 Minimized Extra Space.py', 'm78.py', 'm8.py', 'm846 Daily.py', 'm846 v2 A LOT SLOWER LMAO.py', 'm861 v2.c', 'm861.c', 'm861.py', 'm974 Daily v1.py', 'm974 Daily v2 Math REVISIT.py', 'm974 Daily v2.java']\n",
      "Total of 243 files found.\n",
      "[('bw contest 132', 'e3174 q1.py'), ('bw contest 132', 'm3175 q2.py'), ('w contest 400', 'e3168 Weekly Contest 400 q1.py'), ('w contest 400', 'm3169 Weekly Contest 400 q2.py'), ('w contest 401', 'e3178 q1.py'), ('w contest 401', 'm3179 q2 brute force but worked.py'), ('w contest 401', 'm3180 q3 converted.py'), ('w contest 401', 'm3180 q3 v2.py'), ('w contest 401', 'm3180 q3.c')]\n",
      "Total of 9 contest files found.\n"
     ]
    }
   ],
   "source": [
    "leetcodePath = 'my-submissions/'\n",
    "leetcodeFiles = [x for x in listdir(leetcodePath) if isfile(join(leetcodePath, x))]\n",
    "\n",
    "contestFolders = [x for x in listdir(leetcodePath) if not isfile(join(leetcodePath, x))]\n",
    "contestLeetcodeFiles = []\n",
    "for contestFolder in contestFolders :\n",
    "    contestLeetcodeFiles.extend([(contestFolder, fileName) for fileName in listdir(join(leetcodePath, contestFolder)) \n",
    "                                                            if isfile(join(leetcodePath, contestFolder, fileName))])\n",
    "\n",
    "leetcodeFiles.sort()\n",
    "contestLeetcodeFiles.sort()\n",
    "\n",
    "print(leetcodeFiles)\n",
    "print(f'Total of {len(leetcodeFiles)} files found.')\n",
    "\n",
    "print(contestLeetcodeFiles)\n",
    "print(f'Total of {len(contestLeetcodeFiles)} contest files found.')"
   ]
  },
  {
   "cell_type": "markdown",
   "metadata": {},
   "source": [
    "## Helper Methods\n",
    "\n",
    "AddCase $\\rightarrow$ takes information for a new question file and formats it accordingly for a row.\n",
    "\n",
    "UpdateLanguage $\\rightarrow$ if a question already has a solution, this is called instead to insert the new file link to the existing row details."
   ]
  },
  {
   "cell_type": "code",
   "execution_count": 3,
   "metadata": {},
   "outputs": [],
   "source": [
    "# Categories\n",
    "\n",
    "categories = set(['Daily', 'Weekly Premium', 'Contest', 'Favourite'])"
   ]
  },
  {
   "cell_type": "code",
   "execution_count": 4,
   "metadata": {},
   "outputs": [],
   "source": [
    "def addCase(level: str, \n",
    "            number: int, \n",
    "            title: str, \n",
    "            category: str,\n",
    "            language: str,\n",
    "            path: str) :\n",
    "\n",
    "    # Level, Number, Title, Python, Java, MySQL, Other\n",
    "    output = [level, number, title, category, '', '', '', '', '']\n",
    "    path = f'[{language}](<{path}>)'\n",
    "    \n",
    "    match language.lower() :\n",
    "        case 'python' | 'py':\n",
    "            output[4] = path\n",
    "        case 'java':\n",
    "            output[5] = path\n",
    "        case 'mysql' | 'sql' :\n",
    "            output[6] = path\n",
    "        case 'c' :\n",
    "            output[7] = path\n",
    "        case _:\n",
    "            output[8] = path\n",
    "\n",
    "    # return df\n",
    "    return output"
   ]
  },
  {
   "cell_type": "code",
   "execution_count": 5,
   "metadata": {},
   "outputs": [],
   "source": [
    "def updateLanguage(orig, language, path) :  \n",
    "    index = -1  \n",
    "    match language.lower() :\n",
    "        case 'python' | 'py':\n",
    "            index = 4\n",
    "        case 'java':\n",
    "            index = 5\n",
    "        case 'mysql' | 'sql' :\n",
    "            index = 6\n",
    "        case 'c' :\n",
    "            index = 7\n",
    "        case _:\n",
    "            index = 8\n",
    "\n",
    "    path = f'[{language}](<{path}>)'\n",
    "    orig[index] = f'{orig[index]}, {path}' if not orig[index] == '' \\\n",
    "                                           else path\n",
    "\n",
    "    return orig"
   ]
  },
  {
   "cell_type": "code",
   "execution_count": 6,
   "metadata": {},
   "outputs": [],
   "source": [
    "def updateCategory(orig, category) : \n",
    "    if category.lower() in orig[3].lower() :\n",
    "        return orig\n",
    "\n",
    "    orig[3] = f'{orig[3]}, {category}' if not orig[3] == '' \\\n",
    "                                      else category\n",
    "    return orig"
   ]
  },
  {
   "cell_type": "markdown",
   "metadata": {},
   "source": [
    "# Parsing Files\n",
    "Question file parsing occurs here. It organizes it into 3 different lists, separated by difficulty and sorted by question number afterwards."
   ]
  },
  {
   "cell_type": "code",
   "execution_count": 7,
   "metadata": {},
   "outputs": [],
   "source": [
    "easyQuestions = [] \n",
    "mediumQuestions = []\n",
    "hardQuestions = []\n",
    "\n",
    "questionsVisited = set()\n",
    "\n",
    "counter = {}\n",
    "moreThanOnce = 0"
   ]
  },
  {
   "cell_type": "code",
   "execution_count": 8,
   "metadata": {},
   "outputs": [],
   "source": [
    "def parseCase(leetcodeFile: str, altTitle: str, subFolderPath: str, contest: bool) -> bool:\n",
    "    level = leetcodeFile[0].lower()\n",
    "    number = int(re.sub(\"[^0-9]\", \"\", leetcodeFile.split(' ')[0])) # Strips all non-numeric characters and any that \n",
    "    title = ''                                                     # follow the question number e.g. e123 v1 becomes 123\n",
    "    category = ''\n",
    "    language = leetcodeFile[leetcodeFile.find('.') + 1:]\n",
    "    path = join(leetcodePath, subFolderPath, leetcodeFile).replace(\"\\\\\", \"/\")\n",
    "    # print(path)\n",
    "\n",
    "    if len(altTitle) > 0 :\n",
    "        title = altTitle\n",
    "    if contest == True :\n",
    "        temp = re.findall('q\\d{1}', leetcodeFile)\n",
    "        if not len(temp) == 0 :\n",
    "            title += ' - ' + temp[0]\n",
    "        print(title)\n",
    "\n",
    "    if contest :\n",
    "        category = 'Contest'\n",
    "    else :\n",
    "        for cat in categories :\n",
    "            if cat.lower() in leetcodeFile.lower() :\n",
    "                category = cat\n",
    "                break\n",
    "\n",
    "\n",
    "    counter[(level, language)] = counter.get((level, language), 0) + 1 # For later reference\n",
    "\n",
    "    if number in questionsVisited : # if solution already found for this question\n",
    "        global moreThanOnce\n",
    "        moreThanOnce += 1\n",
    "\n",
    "        match level :\n",
    "            case 'e' :\n",
    "                for i in range(len(easyQuestions)) :\n",
    "                    if easyQuestions[i][1] == number :\n",
    "                        easyQuestions[i] = updateLanguage(easyQuestions[i], language, path)\n",
    "                        break\n",
    "            case 'm' :\n",
    "                for i in range(len(mediumQuestions)) :\n",
    "                    if mediumQuestions[i][1] == number :\n",
    "                        mediumQuestions[i] = updateLanguage(mediumQuestions[i], language, path)\n",
    "                        break\n",
    "            case 'h' :\n",
    "                for i in range(len(hardQuestions)) :\n",
    "                    if hardQuestions[i][1] == number :\n",
    "                        hardQuestions[i] = updateLanguage(hardQuestions[i], language, path)\n",
    "                        break\n",
    "        \n",
    "        if category != '' :\n",
    "            match level :\n",
    "                case 'e' :\n",
    "                    for i in range(len(easyQuestions)) :\n",
    "                        if easyQuestions[i][1] == number :\n",
    "                            easyQuestions[i] = updateCategory(easyQuestions[i], category)\n",
    "                            break\n",
    "                case 'm' :\n",
    "                    for i in range(len(mediumQuestions)) :\n",
    "                        if mediumQuestions[i][1] == number :\n",
    "                            mediumQuestions[i] = updateCategory(mediumQuestions[i], category)\n",
    "                            break\n",
    "                case 'h' :\n",
    "                    for i in range(len(hardQuestions)) :\n",
    "                        if hardQuestions[i][1] == number :\n",
    "                            hardQuestions[i] = updateCategory(hardQuestions[i], category)\n",
    "                            break\n",
    "\n",
    "        return True\n",
    "\n",
    "    questionsVisited.add(number)\n",
    "\n",
    "    match level :\n",
    "        case 'e' :\n",
    "            easyQuestions.append(addCase('Easy', number, title, category, language, path))\n",
    "        case 'm' :\n",
    "            mediumQuestions.append(addCase('Medium', number, title, category, language, path))\n",
    "        case 'h' :\n",
    "            hardQuestions.append(addCase('Hard', number, title, category, language, path))\n",
    "\n",
    "    return True"
   ]
  },
  {
   "cell_type": "code",
   "execution_count": 9,
   "metadata": {},
   "outputs": [],
   "source": [
    "# Parsing primary files\n",
    "for leetcodeFile in leetcodeFiles :\n",
    "    parseCase(leetcodeFile, '', '', False)"
   ]
  },
  {
   "cell_type": "code",
   "execution_count": 10,
   "metadata": {},
   "outputs": [
    {
     "name": "stdout",
     "output_type": "stream",
     "text": [
      "bw contest 132 - q1\n",
      "bw contest 132 - q2\n",
      "w contest 400 - q1\n",
      "w contest 400 - q2\n",
      "w contest 401 - q1\n",
      "w contest 401 - q2\n",
      "w contest 401 - q3\n",
      "w contest 401 - q3\n",
      "w contest 401 - q3\n"
     ]
    }
   ],
   "source": [
    "# Parsing contest files & folforders\n",
    "\n",
    "for leetcodeContestFile in contestLeetcodeFiles :\n",
    "    contestFolder, leetcodeFile = leetcodeContestFile\n",
    "    parseCase(leetcodeFile, contestFolder, contestFolder, True)"
   ]
  },
  {
   "cell_type": "code",
   "execution_count": 11,
   "metadata": {},
   "outputs": [
    {
     "name": "stdout",
     "output_type": "stream",
     "text": [
      "[['Easy', 1, '', '', '[py](<my-submissions/e1.py>)', '[java](<my-submissions/e1 - brute force.java>), [java](<my-submissions/e1.java>)', '', '', ''], ['Easy', 1002, '', 'Daily', '[py](<my-submissions/e1002 Daily.py>)', '', '', '', ''], ['Easy', 1030, '', '', '[py](<my-submissions/e1030.py>)', '', '', '', ''], ['Easy', 1046, '', '', '[py](<my-submissions/e1046.py>)', '', '', '', ''], ['Easy', 1051, '', '', '[py](<my-submissions/e1051.py>)', '', '', '[c](<my-submissions/e1051.c>)', ''], ['Easy', 1068, '', '', '', '', '[sql](<my-submissions/e1068.sql>)', '', ''], ['Easy', 111, '', '', '', '', '', '[c](<my-submissions/e111.c>)', ''], ['Easy', 118, '', '', '[py](<my-submissions/e118.py>)', '', '', '', ''], ['Easy', 1184, '', '', '[py](<my-submissions/e1184.py>)', '', '', '', ''], ['Easy', 125, '', '', '[py](<my-submissions/e125.py>)', '', '', '[c](<my-submissions/e125.c>)', ''], ['Easy', 1252, '', '', '', '', '', '[c](<my-submissions/e1252 v2 bools.c>), [c](<my-submissions/e1252.c>)', ''], ['Easy', 1317, '', '', '', '', '', '[c](<my-submissions/e1317.c>)', ''], ['Easy', 1351, '', '', '[py](<my-submissions/e1351.py>)', '[java](<my-submissions/e1351 v1 inefficient.java>), [java](<my-submissions/e1351 v2 optimized.java>)', '', '', ''], ['Easy', 14, '', '', '', '[java](<my-submissions/e14.java>)', '', '', ''], ['Easy', 141, '', '', '[py](<my-submissions/e141 sets.py>)', '', '', '[c](<my-submissions/e141 two pointer race.c>)', ''], ['Easy', 1426, '', '', '', '', '', '[c](<my-submissions/e1426.c>)', ''], ['Easy', 1436, '', '', '', '[java](<my-submissions/e1436.java>)', '', '', ''], ['Easy', 1455, '', '', '[py](<my-submissions/e1455 v2 less efficient.py>), [py](<my-submissions/e1455.py>)', '', '', '', ''], ['Easy', 1460, '', '', '', '', '', '[c](<my-submissions/e1460.c>)', ''], ['Easy', 1470, '', '', '', '', '', '[c](<my-submissions/e1470 v2.c>), [c](<my-submissions/e1470.c>)', ''], ['Easy', 1474, '', '', '', '[java](<my-submissions/e1474.java>)', '', '[c](<my-submissions/e1474.c>)', ''], ['Easy', 1502, '', '', '[py](<my-submissions/e1502.py>)', '', '', '[c](<my-submissions/e1502.c>)', ''], ['Easy', 1684, '', '', '[py](<my-submissions/e1684.py>)', '', '', '[c](<my-submissions/e1684.c>)', ''], ['Easy', 1700, '', '', '[py](<my-submissions/e1700 v1.py>), [py](<my-submissions/e1700 v2.py>)', '', '', '', ''], ['Easy', 1736, '', '', '', '', '', '[c](<my-submissions/e1736.c>)', ''], ['Easy', 1748, '', '', '', '', '', '[c](<my-submissions/e1748.c>)', ''], ['Easy', 175, '', '', '[py](<my-submissions/e175.py>)', '', '[sql](<my-submissions/e175.sql>)', '', ''], ['Easy', 181, '', '', '', '', '[sql](<my-submissions/e181.sql>)', '', ''], ['Easy', 182, '', '', '', '', '[sql](<my-submissions/e182.sql>)', '', ''], ['Easy', 1822, '', '', '', '', '', '[c](<my-submissions/e1822.c>)', ''], ['Easy', 183, '', '', '', '', '[sql](<my-submissions/e183.sql>)', '', ''], ['Easy', 1929, '', '', '[py](<my-submissions/e1929.py>)', '[java](<my-submissions/e1929.java>)', '', '[c](<my-submissions/e1929.c>)', ''], ['Easy', 196, '', '', '[py](<my-submissions/e196.py>)', '', '[sql](<my-submissions/e196.sql>)', '', ''], ['Easy', 197, '', '', '', '', '[sql](<my-submissions/e197.sql>)', '', ''], ['Easy', 20, '', '', '', '[java](<my-submissions/e20.java>)', '', '', ''], ['Easy', 2011, '', '', '', '', '', '[c](<my-submissions/e2011.c>)', ''], ['Easy', 2037, '', '', '', '', '', '[c](<my-submissions/e2037 v1 preserving data.c>), [c](<my-submissions/e2037 v2 nonpreserving.c>)', ''], ['Easy', 21, '', '', '', '[java](<my-submissions/e21.java>)', '', '', ''], ['Easy', 2206, '', '', '[py](<my-submissions/e2206.py>)', '', '', '[c](<my-submissions/e2206 v2 without double mallocing.c>), [c](<my-submissions/e2206.c>)', ''], ['Easy', 2248, '', '', '[py](<my-submissions/e2248.py>)', '', '', '', ''], ['Easy', 2389, '', '', '[py](<my-submissions/e2389.py>)', '', '', '', ''], ['Easy', 2395, '', '', '[py](<my-submissions/e2395.py>)', '', '', '', ''], ['Easy', 2570, '', '', '', '', '', '[c](<my-submissions/e2570 v1.c>), [c](<my-submissions/e2570 v2 less mallocing.c>)', ''], ['Easy', 26, '', '', '', '[java](<my-submissions/e26.java>)', '', '', ''], ['Easy', 2678, '', '', '', '[java](<my-submissions/e2678.java>)', '', '', ''], ['Easy', 27, '', '', '[py](<my-submissions/e27.py>)', '[java](<my-submissions/e27.java>)', '', '', ''], ['Easy', 28, '', '', '[py](<my-submissions/e28.py>)', '', '', '', ''], ['Easy', 2886, '', '', '[py](<my-submissions/e2886.py>)', '', '', '', ''], ['Easy', 2894, '', '', '[py](<my-submissions/e2894.py>)', '', '', '', ''], ['Easy', 292, '', '', '[py](<my-submissions/e292.py>)', '', '', '', ''], ['Easy', 2942, '', '', '', '', '', '[c](<my-submissions/e2942.c>)', ''], ['Easy', 3074, '', '', '[py](<my-submissions/e3074.py>)', '', '', '', ''], ['Easy', 3110, '', 'Daily', '[py](<my-submissions/e3110.py>)', '[java](<my-submissions/e3110 Daily.java>)', '', '', ''], ['Easy', 344, '', 'Daily', '[py](<my-submissions/e344.py>)', '[java](<my-submissions/e344 Daily.java>)', '', '', ''], ['Easy', 345, '', '', '[py](<my-submissions/e345.py>)', '', '', '', ''], ['Easy', 374, '', '', '[py](<my-submissions/e374.py>)', '[java](<my-submissions/e374.java>)', '', '', ''], ['Easy', 408, '', '', '[py](<my-submissions/e408.py>)', '', '', '', ''], ['Easy', 409, '', 'Daily', '[py](<my-submissions/e409 alt a bit slower.py>), [py](<my-submissions/e409.py>)', '', '', '[c](<my-submissions/e409 Daily.c>)', ''], ['Easy', 412, '', '', '[py](<my-submissions/e412 oneliner.py>), [py](<my-submissions/e412.py>)', '[java](<my-submissions/e412 hashmaps.java>), [java](<my-submissions/e412.java>)', '', '', ''], ['Easy', 414, '', '', '[py](<my-submissions/e414 - sorting.py>), [py](<my-submissions/e414.py>)', '', '', '', ''], ['Easy', 543, '', '', '[py](<my-submissions/e543.py>)', '[java](<my-submissions/e543 v2.java>), [java](<my-submissions/e543.java>)', '', '[c](<my-submissions/e543.c>)', ''], ['Easy', 572, '', '', '[py](<my-submissions/e572 v2 ideal.py>), [py](<my-submissions/e572.py>)', '', '', '', ''], ['Easy', 577, '', '', '', '', '[sql](<my-submissions/e577.sql>)', '', ''], ['Easy', 584, '', '', '', '', '[sql](<my-submissions/e584.sql>)', '', ''], ['Easy', 586, '', '', '', '', '[sql](<my-submissions/e586.sql>)', '', ''], ['Easy', 595, '', '', '', '', '[sql](<my-submissions/e595.sql>)', '', ''], ['Easy', 596, '', '', '', '', '[sql](<my-submissions/e596.sql>)', '', ''], ['Easy', 607, '', '', '', '', '[sql](<my-submissions/e607.sql>)', '', ''], ['Easy', 619, '', '', '', '', '[sql](<my-submissions/e619.sql>)', '', ''], ['Easy', 645, '', '', '[py](<my-submissions/e645.py>)', '[java](<my-submissions/e645 v1 moderate runtime.java>), [java](<my-submissions/e645 v2 even slower.java>)', '', '', ''], ['Easy', 66, '', '', '', '', '', '[c](<my-submissions/e66 v2.c>), [c](<my-submissions/e66.c>)', ''], ['Easy', 69, '', '', '[py](<my-submissions/e69.py>)', '', '', '', ''], ['Easy', 70, '', '', '[py](<my-submissions/e70 - bottomup.py>), [py](<my-submissions/e70 - topdown.py>)', '', '', '', ''], ['Easy', 744, '', '', '[py](<my-submissions/e744.py>)', '[java](<my-submissions/e744.java>)', '', '', ''], ['Easy', 771, '', '', '[py](<my-submissions/e771.py>)', '[java](<my-submissions/e771 v1.java>), [java](<my-submissions/e771 v2 HashMap.java>), [java](<my-submissions/e771 v3 brute force.java>)', '', '', ''], ['Easy', 9, '', '', '', '[java](<my-submissions/e9.java>)', '', '', ''], ['Easy', 3174, 'bw contest 132 - q1', 'Contest', '[py](<my-submissions/bw contest 132/e3174 q1.py>)', '', '', '', ''], ['Easy', 3168, 'w contest 400 - q1', 'Contest', '[py](<my-submissions/w contest 400/e3168 Weekly Contest 400 q1.py>)', '', '', '', ''], ['Easy', 3178, 'w contest 401 - q1', 'Contest', '[py](<my-submissions/w contest 401/e3178 q1.py>)', '', '', '', '']]\n",
      "[['Medium', 1218, '', '', '[py](<my-submissions/m1218.py>)', '', '', '', ''], ['Medium', 1249, '', '', '[py](<my-submissions/m1249.py>)', '', '', '', ''], ['Medium', 1265, '', '', '[py](<my-submissions/m1265 v1 recursive stack.py>)', '', '', '[c](<my-submissions/m1265 v1.c>)', ''], ['Medium', 129, '', '', '[py](<my-submissions/m129.py>)', '', '', '', ''], ['Medium', 1302, '', '', '[py](<my-submissions/m1302.py>)', '', '', '[c](<my-submissions/m1302 v2 2 pass traversal much faster.c>), [c](<my-submissions/m1302.c>)', ''], ['Medium', 1404, '', 'Daily', '[py](<my-submissions/m1404 Daily.py>)', '', '', '', ''], ['Medium', 1442, '', 'Daily', '[py](<my-submissions/m1442 Daily.py>)', '', '', '', ''], ['Medium', 1490, '', '', '[py](<my-submissions/m1490.py>)', '[java](<my-submissions/m1490.java>)', '', '', ''], ['Medium', 1525, '', '', '[py](<my-submissions/m1525 v1.py>), [py](<my-submissions/m1525 v2.py>)', '', '', '', ''], ['Medium', 1535, '', '', '[py](<my-submissions/m1535.py>)', '', '', '', ''], ['Medium', 1570, '', '', '[py](<my-submissions/m1570 v2 efficient storing.py>), [py](<my-submissions/m1570 v2-2 improved further and simplified.py>), [py](<my-submissions/m1570.py>)', '[java](<my-submissions/m1570 v2-2.java>)', '', '[c](<my-submissions/m1570 v2.c>)', ''], ['Medium', 1650, '', '', '[py](<my-submissions/m1650 v2.py>), [py](<my-submissions/m1650 v3 O(1) Space.py>), [py](<my-submissions/m1650.py>)', '', '', '', ''], ['Medium', 166, '', '', '[py](<my-submissions/m166.py>)', '', '', '', ''], ['Medium', 1698, '', '', '[py](<my-submissions/m1698 v1.py>)', '[java](<my-submissions/m1698 v1.java>)', '', '', ''], ['Medium', 1721, '', '', '', '', '', '[c](<my-submissions/m1721.c>)', ''], ['Medium', 1759, '', '', '', '[java](<my-submissions/m1759.java>)', '', '[c](<my-submissions/m1759.c>)', ''], ['Medium', 176, '', '', '', '', '[sql](<my-submissions/m176.sql>)', '', ''], ['Medium', 1762, '', '', '[py](<my-submissions/m1762.py>)', '', '', '', ''], ['Medium', 177, '', '', '', '', '[sql](<my-submissions/m177.sql>)', '', ''], ['Medium', 1783, '', '', '', '', '[sql](<my-submissions/m1783.sql>)', '', ''], ['Medium', 184, '', '', '', '', '[sql](<my-submissions/m184.sql>)', '', ''], ['Medium', 1885, '', 'Weekly Premium', '[py](<my-submissions/m1885 Weekly Premium.py>)', '', '', '', ''], ['Medium', 189, '', '', '[py](<my-submissions/m189.py>)', '', '', '', ''], ['Medium', 19, '', '', '[py](<my-submissions/m19 v2 two-pointer.py>), [py](<my-submissions/m19.py>)', '[java](<my-submissions/m19 v2.java>)', '', '[c](<my-submissions/m19 v2.c>)', ''], ['Medium', 1940, '', 'Weekly Premium', '[py](<my-submissions/m1940 Iterative Removed TryExcept.py>), [py](<my-submissions/m1940 Iterative TryExcept.py>), [py](<my-submissions/m1940 Weekly Premium subset method.py>), [py](<my-submissions/m1940 counter.py>)', '[java](<my-submissions/m1940 Iterative.java>), [java](<my-submissions/m1940 counter.java>)', '', '', ''], ['Medium', 2, '', '', '', '[java](<my-submissions/m2.java>)', '', '', ''], ['Medium', 2083, '', 'Weekly Premium', '[py](<my-submissions/m2083 Weekly Premium.py>)', '', '', '[c](<my-submissions/m2083.c>)', ''], ['Medium', 2095, '', '', '', '[java](<my-submissions/m2095.java>)', '', '[c](<my-submissions/m2095.c>)', ''], ['Medium', 2149, '', '', '[py](<my-submissions/m2149.py>)', '', '', '[c](<my-submissions/m2149.c>)', ''], ['Medium', 2265, '', '', '[py](<my-submissions/m2265 v2 better runtime via static variable.py>), [py](<my-submissions/m2265.py>)', '', '', '', ''], ['Medium', 227, '', '', '[py](<my-submissions/m227 cleaned.py>), [py](<my-submissions/m227.py>)', '', '', '', ''], ['Medium', 2390, '', '', '[py](<my-submissions/m2390 v1.py>), [py](<my-submissions/m2390 v2.py>)', '[java](<my-submissions/m2390 v1 Stack.java>), [java](<my-submissions/m2390 v2 Deque.java>), [java](<my-submissions/m2390 v3 just StringBuilder.java>)', '', '', ''], ['Medium', 2396, '', '', '[py](<my-submissions/m2396 v1.py>), [py](<my-submissions/m2396 v2.py>)', '[java](<my-submissions/m2396.java>)', '', '[c](<my-submissions/m2396 v2.c>), [c](<my-submissions/m2396.c>)', '[cpp](<my-submissions/m2396.cpp>), [js](<my-submissions/m2396.js>), [kt](<my-submissions/m2396.kt>), [rb](<my-submissions/m2396.rb>), [rs](<my-submissions/m2396.rs>)'], ['Medium', 24, '', '', '', '', '', '[c](<my-submissions/m24 v2 recursion.c>), [c](<my-submissions/m24.c>)', ''], ['Medium', 2433, '', '', '[py](<my-submissions/m2433.py>)', '', '', '', ''], ['Medium', 2482, '', '', '[py](<my-submissions/m2482.py>)', '', '', '', ''], ['Medium', 2486, '', 'Daily', '[py](<my-submissions/m2486 Daily v1.py>), [py](<my-submissions/m2486 Daily v2 two pointer.py>)', '[java](<my-submissions/m2486 v2.java>)', '', '[c](<my-submissions/m2486 v2.c>)', ''], ['Medium', 251, '', '', '[py](<my-submissions/m251.py>)', '', '', '', ''], ['Medium', 260, '', 'Daily', '[py](<my-submissions/m260 Daily.py>)', '', '', '', ''], ['Medium', 2610, '', '', '[py](<my-submissions/m2610 v2 funny less efficient two-liner.py>), [py](<my-submissions/m2610.py>)', '', '', '', ''], ['Medium', 2679, '', '', '', '[java](<my-submissions/m2679.java>)', '', '', ''], ['Medium', 3, '', '', '', '[java](<my-submissions/m3.java>)', '', '', ''], ['Medium', 3064, '', '', '[py](<my-submissions/m3064 v1.py>), [py](<my-submissions/m3064 v2 alt.py>), [py](<my-submissions/m3064 v2.py>)', '', '', '[c](<my-submissions/m3064 v1.c>)', ''], ['Medium', 46, '', '', '[py](<my-submissions/m46 v1 itertools.py>), [py](<my-submissions/m46 v2 recursive.py>)', '', '', '', ''], ['Medium', 475, '', '', '[py](<my-submissions/m475.py>)', '', '', '', ''], ['Medium', 523, '', 'Daily', '[py](<my-submissions/m523 v1 Daily 2024-06-08.py>), [py](<my-submissions/m523 v2 cleaned partially and adjusted to save memory.py>)', '', '', '', ''], ['Medium', 535, '', '', '[py](<my-submissions/m535 v2.py>), [py](<my-submissions/m535.py>)', '', '', '', ''], ['Medium', 611, '', '', '[py](<my-submissions/m611.py>)', '', '', '', ''], ['Medium', 648, '', 'Daily', '[py](<my-submissions/m648  Daily.py>), [py](<my-submissions/m648 v2 TRIE.py>)', '[java](<my-submissions/m648 v2 TRIE.java>)', '', '', ''], ['Medium', 651, '', '', '[py](<my-submissions/m651.py>)', '', '', '', ''], ['Medium', 692, '', '', '[py](<my-submissions/m692.py>)', '', '', '', ''], ['Medium', 7, '', '', '[py](<my-submissions/m7.py>)', '', '', '', ''], ['Medium', 77, '', '', '[py](<my-submissions/m77 v1 itertools.py>), [py](<my-submissions/m77.py>)', '', '', '', ''], ['Medium', 78, '', '', '[py](<my-submissions/m78 Minimized Extra Space.py>), [py](<my-submissions/m78.py>)', '', '', '', ''], ['Medium', 8, '', '', '[py](<my-submissions/m8.py>)', '', '', '', ''], ['Medium', 846, '', 'Daily', '[py](<my-submissions/m846 Daily.py>), [py](<my-submissions/m846 v2 A LOT SLOWER LMAO.py>)', '', '', '', ''], ['Medium', 861, '', '', '[py](<my-submissions/m861.py>)', '', '', '[c](<my-submissions/m861 v2.c>), [c](<my-submissions/m861.c>)', ''], ['Medium', 974, '', 'Daily', '[py](<my-submissions/m974 Daily v1.py>), [py](<my-submissions/m974 Daily v2 Math REVISIT.py>)', '[java](<my-submissions/m974 Daily v2.java>)', '', '', ''], ['Medium', 3175, 'bw contest 132 - q2', 'Contest', '[py](<my-submissions/bw contest 132/m3175 q2.py>)', '', '', '', ''], ['Medium', 3169, 'w contest 400 - q2', 'Contest', '[py](<my-submissions/w contest 400/m3169 Weekly Contest 400 q2.py>)', '', '', '', ''], ['Medium', 3179, 'w contest 401 - q2', 'Contest', '[py](<my-submissions/w contest 401/m3179 q2 brute force but worked.py>)', '', '', '', ''], ['Medium', 3180, 'w contest 401 - q3', 'Contest', '[py](<my-submissions/w contest 401/m3180 q3 converted.py>), [py](<my-submissions/w contest 401/m3180 q3 v2.py>)', '', '', '[c](<my-submissions/w contest 401/m3180 q3.c>)', '']]\n",
      "[['Hard', 1284, '', '', '[py](<my-submissions/h1284 converted for booleans.py>), [py](<my-submissions/h1284.py>)', '', '', '', ''], ['Hard', 224, '', '', '[py](<my-submissions/h224.py>)', '', '', '', ''], ['Hard', 239, '', '', '[py](<my-submissions/h239 v1.py>), [py](<my-submissions/h239 v2.py>)', '', '', '', ''], ['Hard', 25, '', '', '', '', '', '[c](<my-submissions/h25.c>)', '']]\n"
     ]
    }
   ],
   "source": [
    "print(easyQuestions)\n",
    "print(mediumQuestions)\n",
    "print(hardQuestions)"
   ]
  },
  {
   "cell_type": "code",
   "execution_count": 12,
   "metadata": {},
   "outputs": [],
   "source": [
    "# Sorting by question number\n",
    "easyQuestions = sorted(easyQuestions, key=lambda x: x[1])\n",
    "mediumQuestions = sorted(mediumQuestions, key=lambda x: x[1])\n",
    "hardQuestions = sorted(hardQuestions, key=lambda x: x[1])"
   ]
  },
  {
   "cell_type": "markdown",
   "metadata": {},
   "source": [
    "# DataFrames\n",
    "Conversion into DataFrames and declaration of respective column headers occurs here."
   ]
  },
  {
   "cell_type": "code",
   "execution_count": 13,
   "metadata": {},
   "outputs": [],
   "source": [
    "columns = ['Level', \n",
    "           'Number', \n",
    "           'Title', \n",
    "           'Category',\n",
    "           'Python', \n",
    "           'Java', \n",
    "           'MySQL', \n",
    "           'C',\n",
    "           'Other'\n",
    "           ]\n",
    "typeClarification = {'Level': 'str', \n",
    "                     'Number': 'int', \n",
    "                     'Title': 'str', \n",
    "                     'Category': 'str',\n",
    "                     'Python': 'str', \n",
    "                     'Java': 'str', \n",
    "                     'MySQL': 'str', \n",
    "                     'C': 'str',\n",
    "                     'Other': 'str'\n",
    "                     }\n",
    "\n",
    "dfEasy = kungfupanda.DataFrame(data=easyQuestions, columns=columns)\n",
    "dfMedium = kungfupanda.DataFrame(data=mediumQuestions, columns=columns)\n",
    "dfHard = kungfupanda.DataFrame(data=hardQuestions, columns=columns)\n",
    "\n",
    "dfEasy = dfEasy.astype(typeClarification)\n",
    "dfMedium = dfMedium.astype(typeClarification)\n",
    "dfHard = dfHard.astype(typeClarification)\n"
   ]
  },
  {
   "cell_type": "code",
   "execution_count": 14,
   "metadata": {},
   "outputs": [],
   "source": [
    "# Helper method for outputing just to make code cleaner\n",
    "def subLevel(level: str) -> str :\n",
    "    match level.lower() :\n",
    "        case 'e' :\n",
    "            return 'Easy'\n",
    "        case 'm' :\n",
    "            return 'Medium'\n",
    "        case 'h' :\n",
    "            return 'Hard'\n",
    "        case _ :\n",
    "            return 'Unknown'"
   ]
  },
  {
   "cell_type": "code",
   "execution_count": 15,
   "metadata": {},
   "outputs": [
    {
     "name": "stdout",
     "output_type": "stream",
     "text": [
      "{('e', 'java'): 27, ('e', 'py'): 52, ('e', 'c'): 30, ('e', 'sql'): 14, ('h', 'py'): 5, ('h', 'c'): 1, ('m', 'py'): 77, ('m', 'c'): 19, ('m', 'java'): 18, ('m', 'sql'): 4, ('m', 'cpp'): 1, ('m', 'js'): 1, ('m', 'kt'): 1, ('m', 'rb'): 1, ('m', 'rs'): 1} 252\n",
      "145\n",
      "107\n"
     ]
    }
   ],
   "source": [
    "\n",
    "print(counter, sum(counter.values()))\n",
    "print(len(questionsVisited))\n",
    "print(moreThanOnce)\n",
    "\n",
    "rows = ['e', 'm', 'h']\n",
    "columns = sorted(list(set([x[1] for x in counter.keys()])))\n",
    "\n",
    "# Initialization of stats table + column header initialization\n",
    "statsMatrix = [[None] * (len(columns) + 2 + 1)] * (len(rows) + 2)\n",
    "statsMatrix[0] = [''] + [f'**{x.title()}**' for x in columns] + ['**Total**', '**Total Unique**']"
   ]
  },
  {
   "cell_type": "markdown",
   "metadata": {},
   "source": [
    "## Category parsing\n",
    "Going row by row to calculate the respective values :v"
   ]
  },
  {
   "cell_type": "code",
   "execution_count": 16,
   "metadata": {},
   "outputs": [],
   "source": [
    "temp = [easyQuestions, mediumQuestions, hardQuestions] # For summing number of unique question later\n",
    "\n",
    "for i in range(1, len(rows) + 1) :\n",
    "    statsMatrix[i] = [f'**{subLevel(rows[i - 1])}**'] \\\n",
    "                     + [counter.get((rows[i - 1], columns[j]), 0) for j in range(len(columns))] \\\n",
    "                     + [f'*{sum([counter.get((rows[i - 1], x), 0) for x in columns])}*'] \\\n",
    "                     + [f'*{len(temp[i - 1])}*']\n",
    "\n",
    "\n",
    "# Total sums at bottom for each language and TOTAL TOTAL\n",
    "# Total including double counts for languages\n",
    "''' Line by line:   Row Header\n",
    "                    Sum for each language\n",
    "                    Total everything\n",
    "                    Total unique everything\n",
    "'''\n",
    "statsMatrix[-1] = ['**Total**'] \\\n",
    "                  + [f'*{sum([counter.get((x, y), 0) for x in rows])}*' for y in columns] \\\n",
    "                  + [f'**{sum(counter.values())}**'] \\\n",
    "                  + [f'**{sum([len(x) for x in temp])}**']\n",
    "temp = None"
   ]
  },
  {
   "cell_type": "code",
   "execution_count": 17,
   "metadata": {},
   "outputs": [
    {
     "name": "stdout",
     "output_type": "stream",
     "text": [
      "|            | **C**   | **Cpp**   | **Java**   | **Js**   | **Kt**   | **Py**   | **Rb**   | **Rs**   | **Sql**   | **Total**   | **Total Unique**   |\n",
      "|:-----------|:--------|:----------|:-----------|:---------|:---------|:---------|:---------|:---------|:----------|:------------|:-------------------|\n",
      "| **Easy**   | 30      | 0         | 27         | 0        | 0        | 52       | 0        | 0        | 14        | *123*       | *79*               |\n",
      "| **Medium** | 19      | 1         | 18         | 1        | 1        | 77       | 1        | 1        | 4         | *123*       | *62*               |\n",
      "| **Hard**   | 1       | 0         | 0          | 0        | 0        | 5        | 0        | 0        | 0         | *6*         | *4*                |\n",
      "| **Total**  | *50*    | *1*       | *45*       | *1*      | *1*      | *134*    | *1*      | *1*      | *18*      | **252**     | **145**            |\n"
     ]
    }
   ],
   "source": [
    "# Conversion to DataFrame\n",
    "dfColumns = statsMatrix[0]\n",
    "statsMatrix = [statsMatrix[i] for i in range(1, len(statsMatrix))]\n",
    "\n",
    "statsMatrixDf = kungfupanda.DataFrame(data=statsMatrix, columns=dfColumns)\n",
    "print(statsMatrixDf.to_markdown(index=False))"
   ]
  },
  {
   "cell_type": "markdown",
   "metadata": {},
   "source": [
    "# Outputing to README File\n",
    "Takes all the above and overwrites the current [README.md](README.md) file with the data calculated above.\n",
    "\n",
    "Inputs values in order of:\n",
    "- Profile link\n",
    "- Stats\n",
    "- Stat clarification\n",
    "- Question link tables Easy-Medium-Hard\n",
    "\n",
    "Uses the built-in DataFrame `.to_markdown()` for outputting."
   ]
  },
  {
   "cell_type": "code",
   "execution_count": 18,
   "metadata": {},
   "outputs": [],
   "source": [
    "readmePath = 'README.md'\n",
    "\n",
    "with open(readmePath, 'w') as file :\n",
    "    file.write('# LeetCode Records\\n\\n')\n",
    "\n",
    "    file.write('Profile: [Zanger](https://leetcode.com/u/Zanger/)\\n\\n')\n",
    "\n",
    "    file.write('> *Note: if there are multiple files, it\\'s likely a case of me having multiple solutions.*\\n\\n')\n",
    "\n",
    "    file.write('## Stats by Language and Level\\n\\n')\n",
    "    file.write(statsMatrixDf.to_markdown(index=False))\n",
    "    file.write(f'\\n\\nQuestions done in multiple languages:\\t{moreThanOnce}\\n<br>')\n",
    "    file.write(f'\\nUnique questions done:\\t\\t**{int(re.sub(\"[^0-9]\", \"\", statsMatrix[len(statsMatrix) - 1][len(statsMatrix[0]) - 2])) - moreThanOnce}**')\n",
    "\n",
    "    file.write('\\n\\n\\n')\n",
    "\n",
    "\n",
    "    file.write('## Easy\\n')\n",
    "    file.write(dfEasy.to_markdown(index=False))\n",
    "\n",
    "    file.write('\\n\\n## Medium\\n')\n",
    "    file.write(dfMedium.to_markdown(index=False))\n",
    "\n",
    "    file.write('\\n\\n## Hard\\n')\n",
    "    file.write(dfHard.to_markdown(index=False))"
   ]
  }
 ],
 "metadata": {
  "kernelspec": {
   "display_name": "Python 3",
   "language": "python",
   "name": "python3"
  },
  "language_info": {
   "codemirror_mode": {
    "name": "ipython",
    "version": 3
   },
   "file_extension": ".py",
   "mimetype": "text/x-python",
   "name": "python",
   "nbconvert_exporter": "python",
   "pygments_lexer": "ipython3",
   "version": "3.10.2"
  }
 },
 "nbformat": 4,
 "nbformat_minor": 2
}
