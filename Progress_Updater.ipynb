{
 "cells": [
  {
   "cell_type": "code",
   "execution_count": 1,
   "metadata": {},
   "outputs": [],
   "source": [
    "import pandas as kungfupanda\n",
    "from os import listdir\n",
    "from os.path import isfile, join\n",
    "import os\n",
    "import re"
   ]
  },
  {
   "cell_type": "code",
   "execution_count": 2,
   "metadata": {},
   "outputs": [
    {
     "name": "stdout",
     "output_type": "stream",
     "text": [
      "['e1 - brute force.java', 'e1.java', 'e1.py', 'e1068.sql', 'e118.py', 'e1184.py', 'e1351 v1 inefficient.java', 'e1351 v2 optimized.java', 'e1351.py', 'e14.java', 'e1436.java', 'e1455 v2 less efficient.py', 'e1455.py', 'e1700 v1.py', 'e1700 v2.py', 'e175.py', 'e175.sql', 'e181.sql', 'e182.sql', 'e183.sql', 'e197.sql', 'e20.java', 'e21.java', 'e2248.py', 'e2389.py', 'e2395.py', 'e26.java', 'e2678.java', 'e27.java', 'e27.py', 'e28.py', 'e2886.py', 'e2894.py', 'e292.py', 'e3074.py', 'e3110.java', 'e3110.py', 'e3168 Weekly Contest 400.py', 'e344.java', 'e344.py', 'e345.py', 'e408.py', 'e412 hashmaps.java', 'e412 oneliner.py', 'e412.java', 'e412.py', 'e414 - sorting.py', 'e414.py', 'e577.sql', 'e584.sql', 'e586.sql', 'e595.sql', 'e596.sql', 'e607.sql', 'e619.sql', 'e645 v1 moderate runtime.java', 'e645 v2 even slower.java', 'e645.py', 'e70 - bottomup.py', 'e70 - topdown.py', 'e744.java', 'e744.py', 'e9.java', 'm1218.py', 'm1404.py', 'm1442.py', 'm1490.java', 'm1490.py', 'm1525 v1.py', 'm1525 v2.py', 'm166.py', 'm1698 v1.java', 'm1698 v1.py', 'm176.sql', 'm177.sql', 'm1885.py', 'm189.py', 'm1940 counter.java', 'm1940 counter.py', 'm1940 Iterative Removed TryExcept.py', 'm1940 Iterative TryExcept.py', 'm1940 Iterative.java', 'm1940 subset method.py', 'm2.java', 'm2390 v1 Stack.java', 'm2390 v1.py', 'm2390 v2 Deque.java', 'm2390 v2.py', 'm2390 v3 just StringBuilder.java', 'm2433.py', 'm251.py', 'm260.py', 'm2679.java', 'm3.java', 'm3169 Weekly Contest 400.py', 'm611.py', 'm651.py', 'm7.py', 'm78 Minimized Extra Space.py', 'm78.py']\n",
      "Total of 100 files found.\n"
     ]
    }
   ],
   "source": [
    "leetcodePath = 'my-submissions/'\n",
    "leetcodeFiles = [x for x in listdir(leetcodePath)]\n",
    "\n",
    "print(leetcodeFiles)\n",
    "print(f'Total of {len(leetcodeFiles)} files found.')\n"
   ]
  },
  {
   "cell_type": "code",
   "execution_count": 3,
   "metadata": {},
   "outputs": [],
   "source": [
    "leetcodeFiles.sort()"
   ]
  },
  {
   "cell_type": "code",
   "execution_count": 4,
   "metadata": {},
   "outputs": [],
   "source": [
    "# def addCase(df: kungfupanda.DataFrame,\n",
    "def addCase(level: str, \n",
    "            number: int, \n",
    "            title: str, \n",
    "            language: str,\n",
    "            path: str) :\n",
    "\n",
    "    # Level, Number, Title, Python, Java, MySQL, Other\n",
    "    output = [level, number, title, '', '', '', '']\n",
    "    path = f'[{language}](<{path}>)'\n",
    "    \n",
    "    match language.lower() :\n",
    "        case 'python' | 'py':\n",
    "            output[3] = path\n",
    "        case 'java':\n",
    "            output[4] = path\n",
    "        case 'mysql' | 'sql' :\n",
    "            output[5] = path\n",
    "        case _:\n",
    "            output[6] = path\n",
    "\n",
    "    # return df\n",
    "    return output"
   ]
  },
  {
   "cell_type": "code",
   "execution_count": 5,
   "metadata": {},
   "outputs": [],
   "source": [
    "def updateLanguage(orig, language, path) :  \n",
    "    index = -1  \n",
    "    match language.lower() :\n",
    "        case 'python' | 'py':\n",
    "            index = 3\n",
    "        case 'java':\n",
    "            index = 4\n",
    "        case 'mysql' | 'sql' :\n",
    "            index = 5\n",
    "        case _:\n",
    "            index = 6\n",
    "\n",
    "    path = f'[{language}](<{path}>)'\n",
    "    orig[index] = f'{orig[index]}, {path}' if not orig[index] == '' \\\n",
    "                                           else path\n",
    "\n",
    "    return orig"
   ]
  },
  {
   "cell_type": "code",
   "execution_count": 6,
   "metadata": {},
   "outputs": [
    {
     "name": "stdout",
     "output_type": "stream",
     "text": [
      "[['Easy', 1, '', '[py](<my-submissions/e1.py>)', '[java](<my-submissions/e1 - brute force.java>), [java](<my-submissions/e1.java>)', '', ''], ['Easy', 1068, '', '', '', '[sql](<my-submissions/e1068.sql>)', ''], ['Easy', 118, '', '[py](<my-submissions/e118.py>)', '', '', ''], ['Easy', 1184, '', '[py](<my-submissions/e1184.py>)', '', '', ''], ['Easy', 1351, '', '[py](<my-submissions/e1351.py>)', '[java](<my-submissions/e1351 v1 inefficient.java>), [java](<my-submissions/e1351 v2 optimized.java>)', '', ''], ['Easy', 14, '', '', '[java](<my-submissions/e14.java>)', '', ''], ['Easy', 1436, '', '', '[java](<my-submissions/e1436.java>)', '', ''], ['Easy', 1455, '', '[py](<my-submissions/e1455 v2 less efficient.py>), [py](<my-submissions/e1455.py>)', '', '', ''], ['Easy', 1700, '', '[py](<my-submissions/e1700 v1.py>), [py](<my-submissions/e1700 v2.py>)', '', '', ''], ['Easy', 175, '', '[py](<my-submissions/e175.py>)', '', '[sql](<my-submissions/e175.sql>)', ''], ['Easy', 181, '', '', '', '[sql](<my-submissions/e181.sql>)', ''], ['Easy', 182, '', '', '', '[sql](<my-submissions/e182.sql>)', ''], ['Easy', 183, '', '', '', '[sql](<my-submissions/e183.sql>)', ''], ['Easy', 197, '', '', '', '[sql](<my-submissions/e197.sql>)', ''], ['Easy', 20, '', '', '[java](<my-submissions/e20.java>)', '', ''], ['Easy', 21, '', '', '[java](<my-submissions/e21.java>)', '', ''], ['Easy', 2248, '', '[py](<my-submissions/e2248.py>)', '', '', ''], ['Easy', 2389, '', '[py](<my-submissions/e2389.py>)', '', '', ''], ['Easy', 2395, '', '[py](<my-submissions/e2395.py>)', '', '', ''], ['Easy', 26, '', '', '[java](<my-submissions/e26.java>)', '', ''], ['Easy', 2678, '', '', '[java](<my-submissions/e2678.java>)', '', ''], ['Easy', 27, '', '[py](<my-submissions/e27.py>)', '[java](<my-submissions/e27.java>)', '', ''], ['Easy', 28, '', '[py](<my-submissions/e28.py>)', '', '', ''], ['Easy', 2886, '', '[py](<my-submissions/e2886.py>)', '', '', ''], ['Easy', 2894, '', '[py](<my-submissions/e2894.py>)', '', '', ''], ['Easy', 292, '', '[py](<my-submissions/e292.py>)', '', '', ''], ['Easy', 3074, '', '[py](<my-submissions/e3074.py>)', '', '', ''], ['Easy', 3110, '', '[py](<my-submissions/e3110.py>)', '[java](<my-submissions/e3110.java>)', '', ''], ['Easy', 3168, '', '[py](<my-submissions/e3168 Weekly Contest 400.py>)', '', '', ''], ['Easy', 344, '', '[py](<my-submissions/e344.py>)', '[java](<my-submissions/e344.java>)', '', ''], ['Easy', 345, '', '[py](<my-submissions/e345.py>)', '', '', ''], ['Easy', 408, '', '[py](<my-submissions/e408.py>)', '', '', ''], ['Easy', 412, '', '[py](<my-submissions/e412 oneliner.py>), [py](<my-submissions/e412.py>)', '[java](<my-submissions/e412 hashmaps.java>), [java](<my-submissions/e412.java>)', '', ''], ['Easy', 414, '', '[py](<my-submissions/e414 - sorting.py>), [py](<my-submissions/e414.py>)', '', '', ''], ['Easy', 577, '', '', '', '[sql](<my-submissions/e577.sql>)', ''], ['Easy', 584, '', '', '', '[sql](<my-submissions/e584.sql>)', ''], ['Easy', 586, '', '', '', '[sql](<my-submissions/e586.sql>)', ''], ['Easy', 595, '', '', '', '[sql](<my-submissions/e595.sql>)', ''], ['Easy', 596, '', '', '', '[sql](<my-submissions/e596.sql>)', ''], ['Easy', 607, '', '', '', '[sql](<my-submissions/e607.sql>)', ''], ['Easy', 619, '', '', '', '[sql](<my-submissions/e619.sql>)', ''], ['Easy', 645, '', '[py](<my-submissions/e645.py>)', '[java](<my-submissions/e645 v1 moderate runtime.java>), [java](<my-submissions/e645 v2 even slower.java>)', '', ''], ['Easy', 70, '', '[py](<my-submissions/e70 - bottomup.py>), [py](<my-submissions/e70 - topdown.py>)', '', '', ''], ['Easy', 744, '', '[py](<my-submissions/e744.py>)', '[java](<my-submissions/e744.java>)', '', ''], ['Easy', 9, '', '', '[java](<my-submissions/e9.java>)', '', '']]\n",
      "[['Medium', 1218, '', '[py](<my-submissions/m1218.py>)', '', '', ''], ['Medium', 1404, '', '[py](<my-submissions/m1404.py>)', '', '', ''], ['Medium', 1442, '', '[py](<my-submissions/m1442.py>)', '', '', ''], ['Medium', 1490, '', '[py](<my-submissions/m1490.py>)', '[java](<my-submissions/m1490.java>)', '', ''], ['Medium', 1525, '', '[py](<my-submissions/m1525 v1.py>), [py](<my-submissions/m1525 v2.py>)', '', '', ''], ['Medium', 166, '', '[py](<my-submissions/m166.py>)', '', '', ''], ['Medium', 1698, '', '[py](<my-submissions/m1698 v1.py>)', '[java](<my-submissions/m1698 v1.java>)', '', ''], ['Medium', 176, '', '', '', '[sql](<my-submissions/m176.sql>)', ''], ['Medium', 177, '', '', '', '[sql](<my-submissions/m177.sql>)', ''], ['Medium', 1885, '', '[py](<my-submissions/m1885.py>)', '', '', ''], ['Medium', 189, '', '[py](<my-submissions/m189.py>)', '', '', ''], ['Medium', 1940, '', '[py](<my-submissions/m1940 Iterative Removed TryExcept.py>), [py](<my-submissions/m1940 Iterative TryExcept.py>), [py](<my-submissions/m1940 counter.py>), [py](<my-submissions/m1940 subset method.py>)', '[java](<my-submissions/m1940 Iterative.java>), [java](<my-submissions/m1940 counter.java>)', '', ''], ['Medium', 2, '', '', '[java](<my-submissions/m2.java>)', '', ''], ['Medium', 2390, '', '[py](<my-submissions/m2390 v1.py>), [py](<my-submissions/m2390 v2.py>)', '[java](<my-submissions/m2390 v1 Stack.java>), [java](<my-submissions/m2390 v2 Deque.java>), [java](<my-submissions/m2390 v3 just StringBuilder.java>)', '', ''], ['Medium', 2433, '', '[py](<my-submissions/m2433.py>)', '', '', ''], ['Medium', 251, '', '[py](<my-submissions/m251.py>)', '', '', ''], ['Medium', 260, '', '[py](<my-submissions/m260.py>)', '', '', ''], ['Medium', 2679, '', '', '[java](<my-submissions/m2679.java>)', '', ''], ['Medium', 3, '', '', '[java](<my-submissions/m3.java>)', '', ''], ['Medium', 3169, '', '[py](<my-submissions/m3169 Weekly Contest 400.py>)', '', '', ''], ['Medium', 611, '', '[py](<my-submissions/m611.py>)', '', '', ''], ['Medium', 651, '', '[py](<my-submissions/m651.py>)', '', '', ''], ['Medium', 7, '', '[py](<my-submissions/m7.py>)', '', '', ''], ['Medium', 78, '', '[py](<my-submissions/m78 Minimized Extra Space.py>), [py](<my-submissions/m78.py>)', '', '', '']]\n",
      "[]\n"
     ]
    }
   ],
   "source": [
    "easyQuestions = [] \n",
    "mediumQuestions = []\n",
    "hardQuestions = []\n",
    "\n",
    "questionsVisited = set()\n",
    "\n",
    "counter = {}\n",
    "moreThanOnce = 0\n",
    "\n",
    "for i in leetcodeFiles :\n",
    "    level = i[0].lower()\n",
    "    number = int(re.sub(\"[^0-9]\", \"\", i.split(' ')[0]))\n",
    "    title = ''\n",
    "    language = i[i.find('.') + 1:]\n",
    "    path = join(leetcodePath, i)\n",
    "\n",
    "    counter[(level, language)] = counter.get((level, language), 0) + 1\n",
    "\n",
    "    if number in questionsVisited :\n",
    "        moreThanOnce += 1\n",
    "\n",
    "        match level :\n",
    "            case 'e' :\n",
    "                for i in range(len(easyQuestions)) :\n",
    "                    if easyQuestions[i][1] == number :\n",
    "                        easyQuestions[i] = updateLanguage(easyQuestions[i], language, path)\n",
    "                        break\n",
    "            case 'm' :\n",
    "                for i in range(len(mediumQuestions)) :\n",
    "                    if mediumQuestions[i][1] == number :\n",
    "                        mediumQuestions[i] = updateLanguage(mediumQuestions[i], language, path)\n",
    "                        break\n",
    "            case 'h' :\n",
    "                for i in range(len(hardQuestions)) :\n",
    "                    if hardQuestions[i][1] == number :\n",
    "                        hardQuestions[i] = updateLanguage(hardQuestions[i], language, path)\n",
    "                        break\n",
    "        continue\n",
    "\n",
    "    questionsVisited.add(number)\n",
    "\n",
    "    match level :\n",
    "        case 'e' :\n",
    "            easyQuestions.append(addCase('Easy', number, title, language, path))\n",
    "        case 'm' :\n",
    "            mediumQuestions.append(addCase('Medium', number, title, language, path))\n",
    "        case 'h' :\n",
    "            hardQuestions.append(addCase('Hard', number, title, language, path))\n",
    "\n",
    "print(easyQuestions)\n",
    "print(mediumQuestions)\n",
    "print(hardQuestions)\n"
   ]
  },
  {
   "cell_type": "code",
   "execution_count": 7,
   "metadata": {},
   "outputs": [],
   "source": [
    "# Sorting by question number\n",
    "easyQuestions = sorted(easyQuestions, key=lambda x: x[1])\n",
    "mediumQuestions = sorted(mediumQuestions, key=lambda x: x[1])\n",
    "hardQuestions = sorted(hardQuestions, key=lambda x: x[1])"
   ]
  },
  {
   "cell_type": "code",
   "execution_count": 8,
   "metadata": {},
   "outputs": [],
   "source": [
    "columns = ['Level', \n",
    "           'Number', \n",
    "           'Title', \n",
    "           'Python', \n",
    "           'Java', \n",
    "           'MySQL', \n",
    "           'Other'\n",
    "           ]\n",
    "typeClarification = {'Level': 'str', \n",
    "                     'Number': 'int', \n",
    "                     'Title': 'str', \n",
    "                     'Python': 'str', \n",
    "                     'Java': 'str', \n",
    "                     'MySQL': 'str', \n",
    "                     'Other': 'str'\n",
    "                     }\n",
    "\n",
    "dfEasy = kungfupanda.DataFrame(data=easyQuestions, columns=columns)\n",
    "dfMedium = kungfupanda.DataFrame(data=mediumQuestions, columns=columns)\n",
    "dfHard = kungfupanda.DataFrame(data=hardQuestions, columns=columns)\n",
    "\n",
    "dfEasy = dfEasy.astype(typeClarification)\n",
    "dfMedium = dfMedium.astype(typeClarification)\n",
    "dfHard = dfHard.astype(typeClarification)\n"
   ]
  },
  {
   "cell_type": "code",
   "execution_count": 9,
   "metadata": {},
   "outputs": [
    {
     "name": "stdout",
     "output_type": "stream",
     "text": [
      "{('e', 'java'): 19, ('e', 'py'): 31, ('e', 'sql'): 13, ('m', 'py'): 25, ('m', 'java'): 10, ('m', 'sql'): 2} 100\n",
      "69\n",
      "31\n",
      "|            | **Java**   | **Py**   | **Sql**   | **Total**   | **Total Unique**   |\n",
      "|:-----------|:-----------|:---------|:----------|:------------|:-------------------|\n",
      "| **Easy**   | 19         | 31       | 13        | *63*        | *45*               |\n",
      "| **Medium** | 10         | 25       | 2         | *37*        | *24*               |\n",
      "| **Hard**   | 0          | 0        | 0         | *0*         | *0*                |\n",
      "| **Total**  | *29*       | *56*     | *15*      | **100**     | **69**             |\n"
     ]
    }
   ],
   "source": [
    "def subLevel(level: str) -> str :\n",
    "    match level.lower() :\n",
    "        case 'e' :\n",
    "            return 'Easy'\n",
    "        case 'm' :\n",
    "            return 'Medium'\n",
    "        case 'h' :\n",
    "            return 'Hard'\n",
    "        case _ :\n",
    "            return 'Unknown'\n",
    "\n",
    "\n",
    "print(counter, sum(counter.values()))\n",
    "print(len(questionsVisited))\n",
    "print(moreThanOnce)\n",
    "\n",
    "rows = ['e', 'm', 'h']\n",
    "columns = sorted(list(set([x[1] for x in counter.keys()])))\n",
    "\n",
    "statsMatrix = [[None] * (len(columns) + 2 + 1)] * (len(rows) + 2)\n",
    "statsMatrix[0] = [''] + [f'**{x.title()}**' for x in columns] + ['**Total**', '**Total Unique**']\n",
    "\n",
    "\n",
    "\n",
    "temp = [easyQuestions, mediumQuestions, hardQuestions]\n",
    "for i in range(1, len(rows) + 1) :\n",
    "    statsMatrix[i] = [f'**{subLevel(rows[i - 1])}**'] \\\n",
    "                     + [counter.get((rows[i - 1], columns[j]), 0) for j in range(len(columns))] \\\n",
    "                     + [f'*{sum([counter.get((rows[i - 1], x), 0) for x in columns])}*'] \\\n",
    "                     + [f'*{len(temp[i - 1])}*']\n",
    "\n",
    "# Total including double counts for languages\n",
    "statsMatrix[-1] = ['**Total**'] \\\n",
    "                  + [f'*{sum([counter.get((x, y), 0) for x in rows])}*' for y in columns] \\\n",
    "                  + [f'**{sum(counter.values())}**'] \\\n",
    "                  + [f'**{sum([len(x) for x in temp])}**']\n",
    "temp = None\n",
    "\n",
    "dfColumns = statsMatrix[0]\n",
    "statsMatrix = [statsMatrix[i] for i in range(1, len(statsMatrix))]\n",
    "\n",
    "statsMatrixDf = kungfupanda.DataFrame(data=statsMatrix, columns=dfColumns)\n",
    "print(statsMatrixDf.to_markdown(index=False))\n"
   ]
  },
  {
   "cell_type": "code",
   "execution_count": 10,
   "metadata": {},
   "outputs": [],
   "source": [
    "readmePath = 'README.md'\n",
    "\n",
    "with open(readmePath, 'w') as file :\n",
    "    file.write('# LeetCode Records\\n\\n')\n",
    "\n",
    "    file.write('Profile: [Zanger](https://leetcode.com/u/Zanger/)\\n\\n')\n",
    "\n",
    "    file.write('> *Note: if there are multiple files, it\\'s likely a case of me having multiple solutions.*')\n",
    "\n",
    "    file.write('## Stats by Language and Level\\n\\n')\n",
    "    file.write(statsMatrixDf.to_markdown(index=False))\n",
    "    file.write(f'\\n\\nQuestions done in multiple languages:\\t{moreThanOnce}\\n<br>')\n",
    "    file.write(f'\\nUnique questions done:\\t\\t**{int(re.sub(\"[^0-9]\", \"\", statsMatrix[len(statsMatrix) - 1][len(statsMatrix[0]) - 2])) - moreThanOnce}**')\n",
    "\n",
    "    file.write('\\n\\n\\n')\n",
    "\n",
    "\n",
    "    file.write('## Easy\\n')\n",
    "    file.write(dfEasy.to_markdown(index=False))\n",
    "\n",
    "    file.write('\\n\\n## Medium\\n')\n",
    "    file.write(dfMedium.to_markdown(index=False))\n",
    "\n",
    "    file.write('\\n\\n## Hard\\n')\n",
    "    file.write(dfHard.to_markdown(index=False))"
   ]
  },
  {
   "cell_type": "code",
   "execution_count": null,
   "metadata": {},
   "outputs": [],
   "source": []
  }
 ],
 "metadata": {
  "kernelspec": {
   "display_name": "Python 3",
   "language": "python",
   "name": "python3"
  },
  "language_info": {
   "codemirror_mode": {
    "name": "ipython",
    "version": 3
   },
   "file_extension": ".py",
   "mimetype": "text/x-python",
   "name": "python",
   "nbconvert_exporter": "python",
   "pygments_lexer": "ipython3",
   "version": "3.10.2"
  }
 },
 "nbformat": 4,
 "nbformat_minor": 2
}
